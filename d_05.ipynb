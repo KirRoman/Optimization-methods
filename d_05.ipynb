{
 "cells": [
  {
   "cell_type": "markdown",
   "metadata": {},
   "source": [
    "Task 1\n",
    "1. Установите библиотеку sympy.\n",
    "2. Используя ее функции, напишите свою функцию, которая на вход примет математическую функцию y=f(x) вида x**2 - x + 21, и вернёт производную: 2𝑥−1."
   ]
  },
  {
   "cell_type": "code",
   "execution_count": 9,
   "metadata": {},
   "outputs": [],
   "source": [
    "import sympy as sp\n",
    "import numpy as np\n",
    "import seaborn as sns"
   ]
  },
  {
   "cell_type": "code",
   "execution_count": 10,
   "metadata": {},
   "outputs": [],
   "source": [
    "x, y, w, b, i, n = sp.symbols('x y w b i n')"
   ]
  },
  {
   "cell_type": "code",
   "execution_count": 11,
   "metadata": {},
   "outputs": [],
   "source": [
    "def df(func):\n",
    "    return sp.diff(func,x)"
   ]
  },
  {
   "cell_type": "code",
   "execution_count": 12,
   "metadata": {},
   "outputs": [
    {
     "data": {
      "text/latex": [
       "$\\displaystyle 2 x - 1$"
      ],
      "text/plain": [
       "2*x - 1"
      ]
     },
     "execution_count": 12,
     "metadata": {},
     "output_type": "execute_result"
    }
   ],
   "source": [
    "df(x**2 - x + 21)"
   ]
  },
  {
   "cell_type": "code",
   "execution_count": 15,
   "metadata": {},
   "outputs": [],
   "source": [
    "def partial__df(func, arg):\n",
    "    return sp.diff(func, arg)"
   ]
  },
  {
   "cell_type": "code",
   "execution_count": 16,
   "metadata": {},
   "outputs": [
    {
     "data": {
      "text/latex": [
       "$\\displaystyle - 2 x + 2 y$"
      ],
      "text/plain": [
       "-2*x + 2*y"
      ]
     },
     "execution_count": 16,
     "metadata": {},
     "output_type": "execute_result"
    }
   ],
   "source": [
    "partial__df((x-y)**2,y)"
   ]
  },
  {
   "cell_type": "code",
   "execution_count": 17,
   "metadata": {},
   "outputs": [
    {
     "data": {
      "text/latex": [
       "$\\displaystyle 2 x - 2 y$"
      ],
      "text/plain": [
       "2*x - 2*y"
      ]
     },
     "execution_count": 17,
     "metadata": {},
     "output_type": "execute_result"
    }
   ],
   "source": [
    "partial__df((x-y)**2,x)"
   ]
  },
  {
   "cell_type": "code",
   "execution_count": 26,
   "metadata": {},
   "outputs": [],
   "source": [
    "mse = sp.Sum((sp.Indexed(y,i) - w * sp.Indexed(x,i) - b) ** 2, (i,1,n))/n"
   ]
  },
  {
   "cell_type": "code",
   "execution_count": 27,
   "metadata": {},
   "outputs": [
    {
     "data": {
      "text/latex": [
       "$\\displaystyle \\frac{\\sum_{i=1}^{n} \\left(- b - w {x}_{i} + {y}_{i}\\right)^{2}}{n}$"
      ],
      "text/plain": [
       "Sum((-b - w*x[i] + y[i])**2, (i, 1, n))/n"
      ]
     },
     "execution_count": 27,
     "metadata": {},
     "output_type": "execute_result"
    }
   ],
   "source": [
    "mse"
   ]
  },
  {
   "cell_type": "code",
   "execution_count": 28,
   "metadata": {},
   "outputs": [
    {
     "data": {
      "text/latex": [
       "$\\displaystyle \\frac{\\sum_{i=1}^{n} \\left(2 b + 2 w {x}_{i} - 2 {y}_{i}\\right)}{n}$"
      ],
      "text/plain": [
       "Sum(2*b + 2*w*x[i] - 2*y[i], (i, 1, n))/n"
      ]
     },
     "execution_count": 28,
     "metadata": {},
     "output_type": "execute_result"
    }
   ],
   "source": [
    "partial__df(mse, b)"
   ]
  },
  {
   "cell_type": "code",
   "execution_count": 29,
   "metadata": {},
   "outputs": [
    {
     "data": {
      "text/latex": [
       "$\\displaystyle \\frac{\\sum_{i=1}^{n} - 2 \\left(- b - w {x}_{i} + {y}_{i}\\right) {x}_{i}}{n}$"
      ],
      "text/plain": [
       "Sum(-2*(-b - w*x[i] + y[i])*x[i], (i, 1, n))/n"
      ]
     },
     "execution_count": 29,
     "metadata": {},
     "output_type": "execute_result"
    }
   ],
   "source": [
    "partial__df(mse, w)"
   ]
  },
  {
   "cell_type": "code",
   "execution_count": 235,
   "metadata": {},
   "outputs": [],
   "source": [
    "class Gradient:\n",
    "    def __init__(self, X, Y):\n",
    "        self.X = X\n",
    "        self.Y = Y\n",
    "    def predict(self, w=0, b=0):\n",
    "        return w * self.X + b\n",
    "    def ms(self, Y_pred):\n",
    "        return sum((Y_pred - self.Y) ** 2) / len(self.X)\n",
    "    def update(self, w=0, b=0, a=0.00001): # a - lerning rate\n",
    "        w_temp, b_temp = w, b\n",
    "        dw = sum(-2 * (- b_temp - w_temp * self.X + self.Y) * self.X) / len(self.X)\n",
    "        db = sum(2 * (b_temp + w_temp * self.X - self.Y)) / len(self.X)\n",
    "        w = w_temp - a * dw\n",
    "        b = b_temp - a * db\n",
    "        return w, b\n",
    "    def optimaze(self, num_interations, stopping_threshold, w=0, b=0):\n",
    "        Y_pred = self.predict(w,b)\n",
    "        mse = self.ms(Y_pred)\n",
    "        for _ in range(num_interations):\n",
    "            w, b = self.update(w, b)\n",
    "            Y_pred = self.predict(w, b)\n",
    "            if abs(mse - self.ms(Y_pred)) < stopping_threshold:\n",
    "                print(\"stopping_threshold\")\n",
    "                return w, b, self.ms(Y_pred)\n",
    "            mse = self.ms(Y_pred)\n",
    "        print('num_interations')\n",
    "        return w, b, self.ms(Y_pred)"
   ]
  },
  {
   "cell_type": "code",
   "execution_count": 236,
   "metadata": {},
   "outputs": [
    {
     "name": "stdout",
     "output_type": "stream",
     "text": [
      "[100 101 102 103 104 105 106 107 108 109 110 111 112 113 114 115 116 117\n",
      " 118 119 120 121 122 123 124 125 126 127 128 129 130 131 132 133 134 135\n",
      " 136 137 138 139 140 141 142 143 144 145 146 147 148 149 150 151 152 153\n",
      " 154 155 156 157 158 159 160 161 162 163 164 165 166 167 168 169 170 171\n",
      " 172 173 174 175 176 177 178 179 180 181 182 183 184 185 186 187 188 189\n",
      " 190 191 192 193 194 195 196 197 198 199]\n",
      "[ 507.49788222  515.8521725   519.89122471  524.82941204  529.28766075\n",
      "  534.15235695  541.80710887  543.708681    550.41132458  554.7163044\n",
      "  559.24781067  564.61410104  569.48932521  575.92313614  580.71047009\n",
      "  584.70805936  590.33599199  595.58079021  599.62143483  605.52175455\n",
      "  610.59614723  615.70538135  620.64113629  626.59785769  628.53955111\n",
      "  636.78169095  639.28751905  644.64634329  650.93959992  652.89637686\n",
      "  658.02284113  664.65186563  669.00934294  673.45137868  678.85990978\n",
      "  684.22642134  690.84635772  695.27597398  700.08604319  704.58897606\n",
      "  710.32706617  713.63243268  720.40017159  723.2857109   728.67632559\n",
      "  735.49095837  739.13034038  745.99434066  749.90643003  754.67631045\n",
      "  761.32392754  764.47076275  769.86868913  774.63433031  780.82569558\n",
      "  785.1132747   790.36932018  795.05130117  800.99509939  804.81372873\n",
      "  811.19595417  815.57591016  820.26483822  825.46311119  831.02740029\n",
      "  834.52246539  839.20001642  843.55999023  852.02809677  854.42409178\n",
      "  859.62230082  864.93715086  870.13226372  875.35111173  879.69159105\n",
      "  883.64472786  890.91716823  893.68596607  900.2338486   904.73017631\n",
      "  908.93212838  915.38281042  920.16392212  924.19167817  928.80967792\n",
      "  934.86258122  939.2648665   944.58332926  950.15955821  954.52807703\n",
      "  960.04924709  965.10208819  969.61316777  975.7664989   978.84729546\n",
      "  984.54147794  991.6910661   994.58482281  998.11197939 1006.90945969]\n"
     ]
    }
   ],
   "source": [
    "n = 100\n",
    "X = np.array(range(100, 200))\n",
    "Y = 5 * X + 10 + np.random.normal(0,1,100)\n",
    "print(X)\n",
    "print(Y)"
   ]
  },
  {
   "cell_type": "code",
   "execution_count": 237,
   "metadata": {},
   "outputs": [
    {
     "name": "stderr",
     "output_type": "stream",
     "text": [
      "c:\\anaconda\\anaconda3\\lib\\site-packages\\seaborn\\_decorators.py:36: FutureWarning: Pass the following variables as keyword args: x, y. From version 0.12, the only valid positional argument will be `data`, and passing other arguments without an explicit keyword will result in an error or misinterpretation.\n",
      "  warnings.warn(\n"
     ]
    },
    {
     "data": {
      "text/plain": [
       "<AxesSubplot:>"
      ]
     },
     "execution_count": 237,
     "metadata": {},
     "output_type": "execute_result"
    },
    {
     "data": {
      "image/png": "[encoded data removed]",
      "text/plain": [
       "<Figure size 432x288 with 1 Axes>"
      ]
     },
     "metadata": {
      "needs_background": "light"
     },
     "output_type": "display_data"
    }
   ],
   "source": [
    "sns.scatterplot(X, Y)\n",
    "sns.lineplot(x=X, y=7 * X + 12, color='red')"
   ]
  },
  {
   "cell_type": "code",
   "execution_count": 238,
   "metadata": {},
   "outputs": [],
   "source": [
    "grad = Gradient(X=X, Y=Y)"
   ]
  },
  {
   "cell_type": "code",
   "execution_count": 239,
   "metadata": {},
   "outputs": [
    {
     "data": {
      "text/plain": [
       "array([ 712,  719,  726,  733,  740,  747,  754,  761,  768,  775,  782,\n",
       "        789,  796,  803,  810,  817,  824,  831,  838,  845,  852,  859,\n",
       "        866,  873,  880,  887,  894,  901,  908,  915,  922,  929,  936,\n",
       "        943,  950,  957,  964,  971,  978,  985,  992,  999, 1006, 1013,\n",
       "       1020, 1027, 1034, 1041, 1048, 1055, 1062, 1069, 1076, 1083, 1090,\n",
       "       1097, 1104, 1111, 1118, 1125, 1132, 1139, 1146, 1153, 1160, 1167,\n",
       "       1174, 1181, 1188, 1195, 1202, 1209, 1216, 1223, 1230, 1237, 1244,\n",
       "       1251, 1258, 1265, 1272, 1279, 1286, 1293, 1300, 1307, 1314, 1321,\n",
       "       1328, 1335, 1342, 1349, 1356, 1363, 1370, 1377, 1384, 1391, 1398,\n",
       "       1405])"
      ]
     },
     "execution_count": 239,
     "metadata": {},
     "output_type": "execute_result"
    }
   ],
   "source": [
    "w = 7\n",
    "b = 12\n",
    "y_pred = grad.predict(w=w, b=b)\n",
    "y_pred"
   ]
  },
  {
   "cell_type": "code",
   "execution_count": 240,
   "metadata": {},
   "outputs": [
    {
     "data": {
      "text/plain": [
       "94000.35605610914"
      ]
     },
     "execution_count": 240,
     "metadata": {},
     "output_type": "execute_result"
    }
   ],
   "source": [
    "ms = grad.ms(y_pred)\n",
    "ms"
   ]
  },
  {
   "cell_type": "code",
   "execution_count": 241,
   "metadata": {},
   "outputs": [
    {
     "data": {
      "text/plain": [
       "(6.0663548167759025, 11.993977769569)"
      ]
     },
     "execution_count": 241,
     "metadata": {},
     "output_type": "execute_result"
    }
   ],
   "source": [
    "grad.update(w=w, b=b)"
   ]
  },
  {
   "cell_type": "code",
   "execution_count": 242,
   "metadata": {},
   "outputs": [
    {
     "name": "stdout",
     "output_type": "stream",
     "text": [
      "stopping_threshold\n"
     ]
    }
   ],
   "source": [
    "grad = Gradient(X, Y)\n",
    "w, b, mse = grad.optimaze(num_interations=500, stopping_threshold=0.001, w = 7, b = 12)"
   ]
  },
  {
   "cell_type": "code",
   "execution_count": 243,
   "metadata": {},
   "outputs": [
    {
     "name": "stdout",
     "output_type": "stream",
     "text": [
      "4.986579764114149 11.98699134662455\n"
     ]
    }
   ],
   "source": [
    "print(w, b)"
   ]
  },
  {
   "cell_type": "code",
   "execution_count": 244,
   "metadata": {},
   "outputs": [
    {
     "name": "stderr",
     "output_type": "stream",
     "text": [
      "c:\\anaconda\\anaconda3\\lib\\site-packages\\seaborn\\_decorators.py:36: FutureWarning: Pass the following variables as keyword args: x, y. From version 0.12, the only valid positional argument will be `data`, and passing other arguments without an explicit keyword will result in an error or misinterpretation.\n",
      "  warnings.warn(\n"
     ]
    },
    {
     "data": {
      "text/plain": [
       "<AxesSubplot:>"
      ]
     },
     "execution_count": 244,
     "metadata": {},
     "output_type": "execute_result"
    },
    {
     "data": {
      "image/png": "[encoded data removed]",
      "text/plain": [
       "<Figure size 432x288 with 1 Axes>"
      ]
     },
     "metadata": {
      "needs_background": "light"
     },
     "output_type": "display_data"
    }
   ],
   "source": [
    "sns.scatterplot(X, Y)\n",
    "sns.lineplot(x=X, y = w * X + b, color = \"red\")"
   ]
  },
  {
   "cell_type": "markdown",
   "metadata": {},
   "source": [
    "dw = sum(-2 * (- b_temp - w_temp * self.X + self.Y) * self.X) / len(self.X)\n",
    "        db = sum(2 * (b_temp + w_temp * self.X - self.Y)) / len(self.X)\n",
    "        w = w_temp - a * dw\n",
    "        b = b_temp - a * db\n",
    "\n",
    "\n",
    "\n",
    "        w = w_temp - a * sum((2 * b_temp + 2 *w_temp * self.X - 2 * self.Y) *self.X) / len(self.X)\n",
    "        b = b_temp - a * sum(2 * b_temp + 2 * w_temp *self.X - 2 * self.Y) / len(self.X)"
   ]
  }
 ],
 "metadata": {
  "kernelspec": {
   "display_name": "Python 3.9.12 ('base')",
   "language": "python",
   "name": "python3"
  },
  "language_info": {
   "codemirror_mode": {
    "name": "ipython",
    "version": 3
   },
   "file_extension": ".py",
   "mimetype": "text/x-python",
   "name": "python",
   "nbconvert_exporter": "python",
   "pygments_lexer": "ipython3",
   "version": "3.9.12"
  },
  "orig_nbformat": 4,
  "vscode": {
   "interpreter": {
    "hash": "52d9bec1bd0dd1d60d9f041927d73dc99a1ae836019e05c066f33f67e6a94d9c"
   }
  }
 },
 "nbformat": 4,
 "nbformat_minor": 2
}
